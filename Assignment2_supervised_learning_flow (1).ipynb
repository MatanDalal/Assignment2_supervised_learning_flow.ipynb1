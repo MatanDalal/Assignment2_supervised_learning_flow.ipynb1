{
 "cells": [
  {
   "cell_type": "markdown",
   "id": "0e8e0bd9",
   "metadata": {},
   "source": [
    "# Titanic Survival Prediction - Alternative Version\n",
    "This notebook performs supervised learning on the Titanic dataset with modified algorithm and updated visualizations."
   ]
  },
  {
   "cell_type": "code",
   "execution_count": null,
   "id": "b5a0b021",
   "metadata": {},
   "outputs": [],
   "source": [
    "import pandas as pd\n",
    "import numpy as np\n",
    "import matplotlib.pyplot as plt\n",
    "import seaborn as sns\n",
    "import plotly.express as px\n",
    "\n",
    "from sklearn.model_selection import train_test_split\n",
    "from sklearn.ensemble import GradientBoostingClassifier\n",
    "from sklearn.metrics import classification_report, confusion_matrix, accuracy_score\n",
    "\n",
    "# Set style\n",
    "sns.set(style=\"whitegrid\")"
   ]
  },
  {
   "cell_type": "code",
   "execution_count": null,
   "id": "1a6619d9",
   "metadata": {},
   "outputs": [],
   "source": [
    "df_train = pd.read_csv(\"titanic_train.csv\")\n",
    "df_test = pd.read_csv(\"titanic_test.csv\")\n",
    "df_train.head()"
   ]
  },
  {
   "cell_type": "code",
   "execution_count": null,
   "id": "6afe3f70",
   "metadata": {},
   "outputs": [],
   "source": [
    "# Survival count by gender\n",
    "fig = px.bar(df_train, x='Sex', color='Survived', barmode='group',\n",
    "             title='Survival by Gender',\n",
    "             color_discrete_map={0: 'red', 1: 'green'})\n",
    "fig.show()"
   ]
  },
  {
   "cell_type": "code",
   "execution_count": null,
   "id": "80804f8d",
   "metadata": {},
   "outputs": [],
   "source": [
    "# Fill missing values and encode categorical variables\n",
    "df_train['Age'].fillna(df_train['Age'].median(), inplace=True)\n",
    "df_train['Embarked'].fillna(df_train['Embarked'].mode()[0], inplace=True)\n",
    "\n",
    "X = df_train[['Pclass', 'Sex', 'Age', 'SibSp', 'Parch', 'Fare', 'Embarked']]\n",
    "y = df_train['Survived']\n",
    "\n",
    "X = pd.get_dummies(X, drop_first=True)\n",
    "X_train, X_val, y_train, y_val = train_test_split(X, y, test_size=0.2, random_state=42)"
   ]
  },
  {
   "cell_type": "code",
   "execution_count": null,
   "id": "aad7a0f8",
   "metadata": {},
   "outputs": [],
   "source": [
    "# Train Gradient Boosting Classifier\n",
    "model = GradientBoostingClassifier()\n",
    "model.fit(X_train, y_train)\n",
    "y_pred = model.predict(X_val)\n",
    "\n",
    "print(\"Accuracy:\", accuracy_score(y_val, y_pred))\n",
    "print(\"Classification Report:\\n\", classification_report(y_val, y_pred))\n"
   ]
  },
  {
   "cell_type": "code",
   "execution_count": null,
   "id": "c11df414",
   "metadata": {},
   "outputs": [],
   "source": [
    "# Confusion matrix visualization\n",
    "conf_matrix = confusion_matrix(y_val, y_pred)\n",
    "sns.heatmap(conf_matrix, annot=True, fmt='d', cmap='Blues')\n",
    "plt.title('Confusion Matrix')\n",
    "plt.xlabel('Predicted')\n",
    "plt.ylabel('True')\n",
    "plt.show()"
   ]
  }
 ],
 "metadata": {},
 "nbformat": 4,
 "nbformat_minor": 5
}
